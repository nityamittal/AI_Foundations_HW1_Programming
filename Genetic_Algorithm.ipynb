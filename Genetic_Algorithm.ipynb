{
  "nbformat": 4,
  "nbformat_minor": 0,
  "metadata": {
    "colab": {
      "provenance": [],
      "authorship_tag": "ABX9TyP2sfwL2nf3Q5+VfG867vDC",
      "include_colab_link": true
    },
    "kernelspec": {
      "name": "python3",
      "display_name": "Python 3"
    },
    "language_info": {
      "name": "python"
    }
  },
  "cells": [
    {
      "cell_type": "markdown",
      "metadata": {
        "id": "view-in-github",
        "colab_type": "text"
      },
      "source": [
        "<a href=\"https://colab.research.google.com/github/nityamittal/AI_Foundations_HW1_Programming/blob/main/Genetic_Algorithm.ipynb\" target=\"_parent\"><img src=\"https://colab.research.google.com/assets/colab-badge.svg\" alt=\"Open In Colab\"/></a>"
      ]
    },
    {
      "cell_type": "markdown",
      "source": [
        "Implementation of 5.3: Genetic Algorithm"
      ],
      "metadata": {
        "id": "oVgknCYFSZT_"
      }
    },
    {
      "cell_type": "code",
      "execution_count": 2,
      "metadata": {
        "id": "BCu1E47lgA19"
      },
      "outputs": [],
      "source": [
        "import random\n",
        "from utils import h"
      ]
    },
    {
      "cell_type": "code",
      "source": [
        "def fitness(state):\n",
        "    return len(state) * (len(state) - 1) // 2 - h(state)\n",
        "\n",
        "def crossover(parent1, parent2):\n",
        "    n = len(parent1)\n",
        "    crossover_point = random.randint(1, n - 1)\n",
        "    child = parent1[:crossover_point] + parent2[crossover_point:]\n",
        "    return child\n",
        "\n",
        "def mutate(state, mutation_rate=0.1):\n",
        "    if random.random() < mutation_rate:\n",
        "        col = random.randint(0, len(state) - 1)\n",
        "        state[col] = random.randint(0, len(state) - 1)\n",
        "    return state\n",
        "\n",
        "def genetic_algorithm(n, population_size=4, iterations=100, mutation_rate=0.1):\n",
        "    population = [[random.randint(0, n-1) for _ in range(n)] for _ in range(population_size)]\n",
        "    min_h = min(h(state) for state in population)\n",
        "\n",
        "    for _ in range(iterations):\n",
        "        fitnesses = [fitness(state) for state in population]\n",
        "        total_fitness = sum(fitnesses)\n",
        "\n",
        "        parents = random.choices(population, weights=fitnesses, k=2)\n",
        "\n",
        "        child = crossover(parents[0], parents[1])\n",
        "        child = mutate(child, mutation_rate)\n",
        "\n",
        "        population.sort(key=lambda state: fitness(state), reverse=True)\n",
        "        population[-1] = child\n",
        "\n",
        "        min_h = min(min_h, h(child))\n",
        "\n",
        "    return min_h\n"
      ],
      "metadata": {
        "id": "e0KaOOf6SiwJ"
      },
      "execution_count": 3,
      "outputs": []
    },
    {
      "cell_type": "code",
      "source": [
        "n = 8\n",
        "num_runs = 2000\n",
        "total_min_h = 0\n",
        "\n",
        "for _ in range(num_runs):\n",
        "    min_h = genetic_algorithm(n)\n",
        "    total_min_h += min_h\n",
        "\n",
        "average_min_h = total_min_h / num_runs\n",
        "print(f\"The empirical average of this minimum h across all 2000 runs: {average_min_h}\")"
      ],
      "metadata": {
        "colab": {
          "base_uri": "https://localhost:8080/"
        },
        "id": "kr72xothSWBq",
        "outputId": "b931eea4-69a5-449d-a0de-d42b128f4bd8"
      },
      "execution_count": 4,
      "outputs": [
        {
          "output_type": "stream",
          "name": "stdout",
          "text": [
            "The empirical average of this minimum h across all 2000 runs: 3.4245\n"
          ]
        }
      ]
    }
  ]
}