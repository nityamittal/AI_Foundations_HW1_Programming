{
  "nbformat": 4,
  "nbformat_minor": 0,
  "metadata": {
    "colab": {
      "provenance": [],
      "authorship_tag": "ABX9TyPphj/dWtgmT5x9Fto9DoNN",
      "include_colab_link": true
    },
    "kernelspec": {
      "name": "python3",
      "display_name": "Python 3"
    },
    "language_info": {
      "name": "python"
    }
  },
  "cells": [
    {
      "cell_type": "markdown",
      "metadata": {
        "id": "view-in-github",
        "colab_type": "text"
      },
      "source": [
        "<a href=\"https://colab.research.google.com/github/nityamittal/AI_Foundations_HW1_Programming/blob/main/Simulated_Annealing_Algorithm.ipynb\" target=\"_parent\"><img src=\"https://colab.research.google.com/assets/colab-badge.svg\" alt=\"Open In Colab\"/></a>"
      ]
    },
    {
      "cell_type": "markdown",
      "source": [
        "Implementation of 5.2: Simulated Annealing Algorithm"
      ],
      "metadata": {
        "id": "_j0OjshlUccl"
      }
    },
    {
      "cell_type": "code",
      "execution_count": 1,
      "metadata": {
        "id": "bMGwq2OFUAsA"
      },
      "outputs": [],
      "source": [
        "import random\n",
        "import math\n",
        "from utils import h"
      ]
    },
    {
      "cell_type": "code",
      "source": [
        "\n",
        "def simulated_annealing(n, iterations=100, schedule=lambda t: 1 - t / 100):\n",
        "    current_state = [random.randint(0, n-1) for _ in range(n)]\n",
        "    current_h = h(current_state)\n",
        "    min_h = current_h\n",
        "\n",
        "    for t in range(1, iterations + 1):\n",
        "        T = schedule(t)\n",
        "        if T <= 0:\n",
        "            break\n",
        "\n",
        "        col = random.randint(0, n-1)\n",
        "        new_state = current_state[:]\n",
        "        new_state[col] = random.randint(0, n-1)\n",
        "        new_h = h(new_state)\n",
        "\n",
        "        delta_h = new_h - current_h\n",
        "        if delta_h < 0 or random.random() < math.exp(-delta_h / T):\n",
        "            current_state = new_state\n",
        "            current_h = new_h\n",
        "\n",
        "        min_h = min(min_h, current_h)\n",
        "\n",
        "    return min_h\n"
      ],
      "metadata": {
        "id": "DBDDHI7sUPVm"
      },
      "execution_count": 2,
      "outputs": []
    },
    {
      "cell_type": "code",
      "source": [
        "n = 8\n",
        "num_runs = 2000\n",
        "total_min_h = 0\n",
        "\n",
        "for _ in range(num_runs):\n",
        "    min_h = simulated_annealing(n)\n",
        "    total_min_h += min_h\n",
        "\n",
        "average_min_h = total_min_h / num_runs\n",
        "print(f\"The empirical average of this minimum h across all 2000 runs: {average_min_h}\")\n"
      ],
      "metadata": {
        "colab": {
          "base_uri": "https://localhost:8080/"
        },
        "id": "fWAFyXEAUQM8",
        "outputId": "e36c6be7-f2c6-4c85-94a8-ec28f24bfb28"
      },
      "execution_count": 5,
      "outputs": [
        {
          "output_type": "stream",
          "name": "stdout",
          "text": [
            "The empirical average of this minimum h across all 2000 runs: 1.6305\n"
          ]
        }
      ]
    }
  ]
}